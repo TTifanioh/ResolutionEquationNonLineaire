{
 "cells": [
  {
   "cell_type": "code",
   "execution_count": 6,
   "id": "20bf74da-4648-4c0a-a957-73ad9316a6af",
   "metadata": {},
   "outputs": [
    {
     "ename": "SyntaxError",
     "evalue": "unterminated string literal (detected at line 25) (1525965960.py, line 25)",
     "output_type": "error",
     "traceback": [
      "\u001b[0;36m  Cell \u001b[0;32mIn[6], line 25\u001b[0;36m\u001b[0m\n\u001b[0;31m    Une fois les outils installée, va dans votre terminal selon votre système d'exploitation et tape les commandes ci-dessous :\u001b[0m\n\u001b[0m                                                                               ^\u001b[0m\n\u001b[0;31mSyntaxError\u001b[0m\u001b[0;31m:\u001b[0m unterminated string literal (detected at line 25)\n"
     ]
    }
   ],
   "source": [
    "# Implementation d'algorithme de Newton-Raphson en python\n",
    "> Pour résoudre des équation non lineaire de type ***f(x) = 0***, c est à dire trouver une solution de cette équation. \n",
    "\n",
    "> Pour ce faire, il y a plusieurs méthode pour la résoudre pour d écrire l algo afin de la résoudre, la methode de Newton-Raphson en fait partie.\n",
    "> Cette méthode est le plus rapide et le plus éfficace pour approximer une solution d un équation non linéaire donnée.\n",
    "\n",
    "## Outils:\n",
    "\n",
    "---\n",
    "\n",
    "Pour utiliser cette algorithme dans vous besoin, il faut avoir les outils nécessaire.\n",
    "\n",
    "*Sur Windows :* (Tabulation)\n",
    "\n",
    "Il faut installer python directement sur son site [https://python.org](https://www.python.org).\n",
    "\n",
    "*Sur Linux :*\n",
    "\t\n",
    "Python est déja installer sur le terminal\n",
    "\n",
    "## Utilisation :\n",
    "\n",
    "---\n",
    "\n",
    "> Une fois les outils installée, va dans votre terminal selon votre système d exploitation et tape les commandes ci-dessous :\n",
    "\n",
    "```\n",
    "cd dossier \n",
    "```\n",
    "\n",
    "> Cette commande ci-dessus permet d'aller à un répertoire dossier.\n",
    "> Le répertoire dossier répresente ici un répertoire ou vous avez mis le fichier à executer.\n",
    "\n",
    "> Ensuite, tape la commande suivant dans le répertoire pour éxecuter le fichier:\n",
    "\n",
    "```python```\n",
    "```python fichier.py```\n",
    "\n",
    "ou\n",
    "\n",
    "```python``` \n",
    "```python3 fichier.py```\n",
    "\n",
    "\n",
    "***Auteur : RANDRIANOELINA Tifanioh M. F.*** | ***Contact : randrianoelinatifanioh@gmail.com***\n"
   ]
  },
  {
   "cell_type": "markdown",
   "id": "3bc1cfde-cf5d-4cc1-bf21-727ed85eedbd",
   "metadata": {},
   "source": []
  }
 ],
 "metadata": {
  "kernelspec": {
   "display_name": "Python 3 (ipykernel)",
   "language": "python",
   "name": "python3"
  },
  "language_info": {
   "codemirror_mode": {
    "name": "ipython",
    "version": 3
   },
   "file_extension": ".py",
   "mimetype": "text/x-python",
   "name": "python",
   "nbconvert_exporter": "python",
   "pygments_lexer": "ipython3",
   "version": "3.10.12"
  }
 },
 "nbformat": 4,
 "nbformat_minor": 5
}
